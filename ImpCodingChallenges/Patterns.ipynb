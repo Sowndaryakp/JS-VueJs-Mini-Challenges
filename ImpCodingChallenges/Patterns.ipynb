{
  "cells": [
    {
      "cell_type": "markdown",
      "metadata": {
        "id": "ZoITrd8MsApt"
      },
      "source": [
        "Install Java kernal to run java code here."
      ]
    },
    {
      "cell_type": "code",
      "execution_count": null,
      "metadata": {
        "id": "rscw4ZMMNO-5"
      },
      "outputs": [],
      "source": [
        "!wget https://github.com/SpencerPark/IJava/releases/download/v1.3.0/ijava-1.3.0.zip\n",
        "!unzip ijava-1.3.0.zip\n",
        "!python install.py"
      ]
    },
    {
      "cell_type": "markdown",
      "metadata": {},
      "source": [
        "# **Importatnt Patterns related Questions and Answers**"
      ]
    },
    {
      "cell_type": "markdown",
      "metadata": {},
      "source": [
        "1. Print a simple triangle pattern.\n",
        "2. Print a pattern of inverted pyramid.\n",
        "3. Print a pattern of diamond.\n",
        "4. Print a pattern of Pascal's Triangle.\n",
        "5. Print a pattern of Floyd's Triangle.\n",
        "6. Print a pattern of Hollow Rectangle.\n",
        "7. Print a pattern of Hollow Square.\n",
        "8. Print a pattern of Hollow Diamond.\n",
        "9. Print a pattern of Hollow Pyramid.\n",
        "10. Print a pattern of Number Triangle.\n",
        "11. Print a pattern of Palindromic Triangle.\n",
        "12. Print a pattern of Arrow Pyramid.\n",
        "13. Print a pattern of Butterfly.\n",
        "14. Print a pattern of Zigzag.\n",
        "15. Print a pattern of Spiral."
      ]
    }
  ],
  "metadata": {
    "colab": {
      "cell_execution_strategy": "setup",
      "provenance": []
    },
    "kernelspec": {
      "display_name": "java",
      "name": "java"
    },
    "language_info": {
      "name": "java"
    }
  },
  "nbformat": 4,
  "nbformat_minor": 0
}
