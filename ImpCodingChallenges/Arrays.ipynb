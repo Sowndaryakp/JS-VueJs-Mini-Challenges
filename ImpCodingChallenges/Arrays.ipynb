{
  "cells": [
    {
      "cell_type": "markdown",
      "metadata": {
        "id": "ZoITrd8MsApt"
      },
      "source": [
        "Install Java kernal to run java code here."
      ]
    },
    {
      "cell_type": "code",
      "execution_count": null,
      "metadata": {
        "id": "rscw4ZMMNO-5"
      },
      "outputs": [],
      "source": [
        "!wget https://github.com/SpencerPark/IJava/releases/download/v1.3.0/ijava-1.3.0.zip\n",
        "!unzip ijava-1.3.0.zip\n",
        "!python install.py"
      ]
    },
    {
      "cell_type": "markdown",
      "metadata": {},
      "source": [
        "# **Importatnt Array related Questions and Answers**"
      ]
    },
    {
      "cell_type": "markdown",
      "metadata": {},
      "source": [
        "## **1. Find the maximum and minimum elements in an array.**"
      ]
    },
    {
      "cell_type": "code",
      "execution_count": null,
      "metadata": {},
      "outputs": [],
      "source": []
    },
    {
      "cell_type": "markdown",
      "metadata": {},
      "source": [
        "1. Find the maximum and minimum elements in an array.\n",
        "2. Rotate an array to the right by k steps.\n",
        "3. Given an array of integers, find if the array contains any duplicates.\n",
        "4. Given an array of integers, return indices of the two numbers such that they add up to a specific target.\n",
        "5. Merge two sorted arrays into a single sorted array.\n",
        "6. Given an array nums, write a function to move all 0's to the end of it while maintaining the relative order of the non-zero elements.\n",
        "7. Given an array nums of n integers where n > 1, return an array output such that output[i] is equal to the product of all the elements of nums except nums[i].\n",
        "8. Given a sorted array nums, remove the duplicates in-place such that each element appears only once and returns the new length.\n",
        "9. Given a sorted array nums, remove the duplicates in-place such that duplicates appeared at most twice and return the new length.\n",
        "10. Implement a function to search in a rotated sorted array.\n",
        "11. Given an array of integers, find the contiguous subarray (containing at least one number) which has the largest sum.\n",
        "12. Given an array of n integers where n > 1, nums, return an array output such that output[i] is equal to the product of all the elements of nums except nums[i].\n",
        "13. Given an array of integers, find the third maximum number in this array.\n",
        "14. Given an array of integers, find the kth largest element in the array.\n",
        "15. Given an array of integers nums and an integer target, return indices of the two numbers such that they add up to target."
      ]
    }
  ],
  "metadata": {
    "colab": {
      "cell_execution_strategy": "setup",
      "provenance": []
    },
    "kernelspec": {
      "display_name": "java",
      "name": "java"
    },
    "language_info": {
      "name": "java"
    }
  },
  "nbformat": 4,
  "nbformat_minor": 0
}
