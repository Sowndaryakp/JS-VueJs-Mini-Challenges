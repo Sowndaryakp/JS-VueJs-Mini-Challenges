{
  "cells": [
    {
      "cell_type": "markdown",
      "metadata": {
        "id": "ZoITrd8MsApt"
      },
      "source": [
        "Install Java kernal to run java code here."
      ]
    },
    {
      "cell_type": "code",
      "execution_count": null,
      "metadata": {
        "id": "rscw4ZMMNO-5"
      },
      "outputs": [],
      "source": [
        "!wget https://github.com/SpencerPark/IJava/releases/download/v1.3.0/ijava-1.3.0.zip\n",
        "!unzip ijava-1.3.0.zip\n",
        "!python install.py"
      ]
    },
    {
      "cell_type": "markdown",
      "metadata": {},
      "source": [
        "# **Importatnt All related Questions and Answers**"
      ]
    },
    {
      "cell_type": "markdown",
      "metadata": {},
      "source": [
        "## **1. Reverse a string.**"
      ]
    },
    {
      "cell_type": "code",
      "execution_count": null,
      "metadata": {},
      "outputs": [],
      "source": [
        "//Optimal Approach\n",
        "public class Solution {\n",
        "    public String reverseString(String s) {\n",
        "        char[] charArray = s.toCharArray();\n",
        "        int left = 0;\n",
        "        int right = s.length() - 1;\n",
        "        \n",
        "        while (left < right) {\n",
        "            char temp = charArray[left];\n",
        "            charArray[left] = charArray[right];\n",
        "            charArray[right] = temp;\n",
        "            left++;\n",
        "            right--;\n",
        "        }\n",
        "        \n",
        "        return new String(charArray);\n",
        "    }\n",
        "    public static void main(String[] args) {\n",
        "        String input = \"Hello World\";\n",
        "        String reversed = reverseString(input);\n",
        "        System.out.println(\"Reversed String: \" + reversed);\n",
        "    }\n",
        "}"
      ]
    },
    {
      "cell_type": "markdown",
      "metadata": {},
      "source": [
        "* We convert the input string s into a character array charArray.\n",
        "* We initialize two pointers left and right at the beginning and end of the array, respectively.\n",
        "* We iterate over the array using a while loop, swapping characters at left and right positions and incrementing left and decrementing right until they meet or cross each other.\n",
        "* Finally, we return the reversed string created from the character array.\n",
        "* Time Complexity: O(n) - We iterate through the entire string once.\n",
        "* Space Complexity: O(n) - We use extra space to store the character array."
      ]
    },
    {
      "cell_type": "code",
      "execution_count": null,
      "metadata": {},
      "outputs": [],
      "source": [
        "//Brute force Approach\n",
        "public class Solution {\n",
        "    public String reverseString(String s) {\n",
        "        StringBuilder reversed = new StringBuilder();\n",
        "        for (int i = s.length() - 1; i >= 0; i--) {\n",
        "            reversed.append(s.charAt(i));\n",
        "        }\n",
        "        return reversed.toString();\n",
        "    }\n",
        "}"
      ]
    },
    {
      "cell_type": "markdown",
      "metadata": {},
      "source": [
        "* We use a StringBuilder reversed to build the reversed string.\n",
        "* We iterate over the input string s from the end to the beginning, appending each character to the reversed StringBuilder.\n",
        "* Finally, we return the reversed string obtained from the StringBuilder.\n",
        "* Time Complexity: O(n) - We iterate through the entire string once.\n",
        "* Space Complexity: O(n) - We use extra space to store the reversed string in the StringBuilder."
      ]
    },
    {
      "cell_type": "markdown",
      "metadata": {},
      "source": [
        "1. Reverse a string.\n",
        "2. Find the maximum and minimum elements in an array.\n",
        "3. Check if a string is a palindrome.\n",
        "4. Find the factorial of a number.\n",
        "5. Implement a function to check if a number is prime.\n",
        "6. Sort an array of integers.\n",
        "7. Find the nth Fibonacci number.\n",
        "8. Implement a stack using an array or linked list.\n",
        "9. Implement a queue using an array or linked list.\n",
        "10. Check if two strings are anagrams of each other.\n",
        "11. Implement a binary search algorithm.\n",
        "12. Find the intersection point of two linked lists.\n",
        "13. Implement a depth-first search (DFS) algorithm.\n",
        "14. Implement a breadth-first search (BFS) algorithm.\n",
        "15. Reverse a linked list."
      ]
    },
    {
      "cell_type": "markdown",
      "metadata": {},
      "source": [
        "## **Find the maximum and minimum elements in an array.**"
      ]
    }
  ],
  "metadata": {
    "colab": {
      "cell_execution_strategy": "setup",
      "provenance": []
    },
    "kernelspec": {
      "display_name": "java",
      "name": "java"
    },
    "language_info": {
      "name": "java"
    }
  },
  "nbformat": 4,
  "nbformat_minor": 0
}
